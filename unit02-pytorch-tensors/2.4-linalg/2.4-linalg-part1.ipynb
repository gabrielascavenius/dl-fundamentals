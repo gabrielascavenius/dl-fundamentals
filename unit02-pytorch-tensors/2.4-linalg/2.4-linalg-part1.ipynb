{
 "cells": [
  {
   "cell_type": "markdown",
   "id": "b878bf8b-5ab4-400c-b72f-3c6f74cf0977",
   "metadata": {},
   "source": [
    "# 2.4 Improving Code Efficiency with Linear Algebra\n"
   ]
  },
  {
   "cell_type": "markdown",
   "id": "6e90af6a-e651-4e46-83b0-1eacd018393e",
   "metadata": {},
   "source": [
    "## Part 1: From For-Loops to Dot Products"
   ]
  },
  {
   "cell_type": "code",
   "id": "b1584b82-1800-48e5-9966-c9abe98a3388",
   "metadata": {
    "ExecuteTime": {
     "end_time": "2025-02-12T02:28:45.357515Z",
     "start_time": "2025-02-12T02:28:45.347877Z"
    }
   },
   "source": [
    "b = 0.\n",
    "x = [1.2, 2.2]\n",
    "w = [3.3, 4.3]\n",
    "\n",
    "output = b\n",
    "for x_j, w_j in zip(x, w):\n",
    "    output += x_j * w_j\n",
    "    \n",
    "print(output)"
   ],
   "outputs": [
    {
     "name": "stdout",
     "output_type": "stream",
     "text": [
      "13.42\n"
     ]
    }
   ],
   "execution_count": 7
  },
  {
   "cell_type": "code",
   "id": "a8d1dd29-a07c-427a-828b-b1d09045ca6c",
   "metadata": {
    "ExecuteTime": {
     "end_time": "2025-02-12T02:28:46.201533Z",
     "start_time": "2025-02-12T02:28:45.370250Z"
    }
   },
   "source": [
    "import torch\n",
    "\n",
    "b = torch.tensor([0.])\n",
    "x = torch.tensor([1.2, 2.2])\n",
    "w = torch.tensor([3.3, 4.3])\n",
    "\n",
    "x.dot(w) + b"
   ],
   "outputs": [
    {
     "data": {
      "text/plain": [
       "tensor([13.4200])"
      ]
     },
     "execution_count": 8,
     "metadata": {},
     "output_type": "execute_result"
    }
   ],
   "execution_count": 8
  },
  {
   "cell_type": "markdown",
   "id": "cc03bd03-42e8-42e9-9b1e-d058eea649da",
   "metadata": {},
   "source": [
    "# Benchmark"
   ]
  },
  {
   "cell_type": "code",
   "id": "f1705401-2f79-48e1-aae7-776dd72a1076",
   "metadata": {
    "ExecuteTime": {
     "end_time": "2025-02-12T02:28:46.208845Z",
     "start_time": "2025-02-12T02:28:46.207115Z"
    }
   },
   "source": [
    "def plain_python(x, w, b):\n",
    "    output = b\n",
    "    for x_j, w_j in zip(x, w):\n",
    "        output += x_j * w_j\n",
    "    return output"
   ],
   "outputs": [],
   "execution_count": 9
  },
  {
   "cell_type": "code",
   "id": "e9d58214-6391-44e9-a464-640ad221113a",
   "metadata": {
    "ExecuteTime": {
     "end_time": "2025-02-12T02:28:46.231317Z",
     "start_time": "2025-02-12T02:28:46.228657Z"
    }
   },
   "source": [
    "import random\n",
    "\n",
    "\n",
    "random.seed(123)\n",
    "\n",
    "b = 0.\n",
    "x = [random.random() for _ in range(1000)]\n",
    "w = [random.random() for _ in range(1000)]"
   ],
   "outputs": [],
   "execution_count": 10
  },
  {
   "cell_type": "code",
   "id": "977e10bc-120d-43c6-b307-18e08fdebe1e",
   "metadata": {
    "ExecuteTime": {
     "end_time": "2025-02-12T02:28:48.364397Z",
     "start_time": "2025-02-12T02:28:46.245720Z"
    }
   },
   "source": [
    "%timeit plain_python(x, w, b)"
   ],
   "outputs": [
    {
     "name": "stdout",
     "output_type": "stream",
     "text": [
      "26 μs ± 193 ns per loop (mean ± std. dev. of 7 runs, 10,000 loops each)\n"
     ]
    }
   ],
   "execution_count": 11
  },
  {
   "cell_type": "code",
   "id": "1795cf5c-dacf-46f8-b71e-523d607aa549",
   "metadata": {
    "ExecuteTime": {
     "end_time": "2025-02-12T02:28:48.379357Z",
     "start_time": "2025-02-12T02:28:48.377178Z"
    }
   },
   "source": [
    "def pytorch_dot(x, w, b):\n",
    "    return x.dot(w) + b"
   ],
   "outputs": [],
   "execution_count": 12
  },
  {
   "cell_type": "code",
   "id": "0c75705a-7b31-4b6c-b671-efb79183ad3d",
   "metadata": {
    "ExecuteTime": {
     "end_time": "2025-02-12T02:28:48.394914Z",
     "start_time": "2025-02-12T02:28:48.392066Z"
    }
   },
   "source": [
    "t_b = torch.tensor(b)\n",
    "t_x = torch.tensor(x)\n",
    "t_w = torch.tensor(w)"
   ],
   "outputs": [],
   "execution_count": 13
  },
  {
   "cell_type": "code",
   "id": "779f4632-6c4b-4873-a2bf-b4912a132107",
   "metadata": {
    "ExecuteTime": {
     "end_time": "2025-02-12T02:29:01.538538Z",
     "start_time": "2025-02-12T02:28:48.451319Z"
    }
   },
   "source": [
    "%timeit pytorch_dot(t_x, t_w, t_b)"
   ],
   "outputs": [
    {
     "name": "stdout",
     "output_type": "stream",
     "text": [
      "1.62 μs ± 89.6 ns per loop (mean ± std. dev. of 7 runs, 1,000,000 loops each)\n"
     ]
    }
   ],
   "execution_count": 14
  }
 ],
 "metadata": {
  "kernelspec": {
   "display_name": "Python 3 (ipykernel)",
   "language": "python",
   "name": "python3"
  },
  "language_info": {
   "codemirror_mode": {
    "name": "ipython",
    "version": 3
   },
   "file_extension": ".py",
   "mimetype": "text/x-python",
   "name": "python",
   "nbconvert_exporter": "python",
   "pygments_lexer": "ipython3",
   "version": "3.9.7"
  }
 },
 "nbformat": 4,
 "nbformat_minor": 5
}
