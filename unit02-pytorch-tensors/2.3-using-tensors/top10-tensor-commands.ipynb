{
 "cells": [
  {
   "cell_type": "markdown",
   "id": "9734d1d7-26d7-4c3a-aea8-b580efa92322",
   "metadata": {},
   "source": [
    "# My Top 10 Tensor Functions and Methods"
   ]
  },
  {
   "cell_type": "markdown",
   "id": "aba57178-1962-4096-9c02-049546979b3f",
   "metadata": {},
   "source": [
    "# 1: Creating Tensors"
   ]
  },
  {
   "cell_type": "code",
   "id": "9befa327-2940-498c-95b7-3d7fea095dad",
   "metadata": {
    "ExecuteTime": {
     "end_time": "2025-02-12T02:28:33.086574Z",
     "start_time": "2025-02-12T02:28:33.071948Z"
    }
   },
   "source": [
    "import torch\n",
    "\n",
    "\n",
    "m = torch.tensor([[1., 2., 3.],\n",
    "                  [4., 5., 6.]])\n",
    "print(m)"
   ],
   "outputs": [
    {
     "name": "stdout",
     "output_type": "stream",
     "text": [
      "tensor([[1., 2., 3.],\n",
      "        [4., 5., 6.]])\n"
     ]
    }
   ],
   "execution_count": 2
  },
  {
   "cell_type": "markdown",
   "id": "7d75f164-cb59-477f-83c8-5b5121908d2b",
   "metadata": {},
   "source": [
    "# 2: Checking the Shape"
   ]
  },
  {
   "cell_type": "code",
   "id": "37285637-845c-48be-aa69-92818bb9f288",
   "metadata": {
    "ExecuteTime": {
     "end_time": "2025-02-12T02:28:33.108746Z",
     "start_time": "2025-02-12T02:28:33.103031Z"
    }
   },
   "source": [
    "print(m)"
   ],
   "outputs": [
    {
     "name": "stdout",
     "output_type": "stream",
     "text": [
      "tensor([[1., 2., 3.],\n",
      "        [4., 5., 6.]])\n"
     ]
    }
   ],
   "execution_count": 3
  },
  {
   "cell_type": "code",
   "id": "952d8ced-064c-446d-906a-f04700b0f1f4",
   "metadata": {
    "ExecuteTime": {
     "end_time": "2025-02-12T02:28:33.146921Z",
     "start_time": "2025-02-12T02:28:33.141833Z"
    }
   },
   "source": [
    "print(m.shape)"
   ],
   "outputs": [
    {
     "name": "stdout",
     "output_type": "stream",
     "text": [
      "torch.Size([2, 3])\n"
     ]
    }
   ],
   "execution_count": 4
  },
  {
   "cell_type": "markdown",
   "id": "6ecd7950-9789-4d4c-9b12-56c97e35255f",
   "metadata": {},
   "source": [
    "# 3: Checking the Rank / Number of Dimensions"
   ]
  },
  {
   "cell_type": "code",
   "id": "07ccf780-2942-4b49-9623-0dab4b3b7da7",
   "metadata": {
    "ExecuteTime": {
     "end_time": "2025-02-12T02:28:33.192835Z",
     "start_time": "2025-02-12T02:28:33.189697Z"
    }
   },
   "source": [
    "print(m)"
   ],
   "outputs": [
    {
     "name": "stdout",
     "output_type": "stream",
     "text": [
      "tensor([[1., 2., 3.],\n",
      "        [4., 5., 6.]])\n"
     ]
    }
   ],
   "execution_count": 5
  },
  {
   "cell_type": "code",
   "id": "d6356788-7968-4f54-9f59-d48f4f6175d8",
   "metadata": {
    "ExecuteTime": {
     "end_time": "2025-02-12T02:28:33.228756Z",
     "start_time": "2025-02-12T02:28:33.224425Z"
    }
   },
   "source": [
    "print(m.ndim)"
   ],
   "outputs": [
    {
     "name": "stdout",
     "output_type": "stream",
     "text": [
      "2\n"
     ]
    }
   ],
   "execution_count": 6
  },
  {
   "cell_type": "code",
   "id": "d65071bc-a7f4-450e-85b8-cc10327f2c9f",
   "metadata": {
    "ExecuteTime": {
     "end_time": "2025-02-12T02:28:33.263778Z",
     "start_time": "2025-02-12T02:28:33.260690Z"
    }
   },
   "source": [
    "print(len(m.shape))"
   ],
   "outputs": [
    {
     "name": "stdout",
     "output_type": "stream",
     "text": [
      "2\n"
     ]
    }
   ],
   "execution_count": 7
  },
  {
   "cell_type": "markdown",
   "id": "029fb6dc-9854-4b0c-b877-ae352992cc44",
   "metadata": {},
   "source": [
    "# 4: Checking the Data Type"
   ]
  },
  {
   "cell_type": "code",
   "id": "52d85f10-0dc8-4f06-b123-ec07a412272f",
   "metadata": {
    "ExecuteTime": {
     "end_time": "2025-02-12T02:28:33.292344Z",
     "start_time": "2025-02-12T02:28:33.288757Z"
    }
   },
   "source": [
    "print(m)"
   ],
   "outputs": [
    {
     "name": "stdout",
     "output_type": "stream",
     "text": [
      "tensor([[1., 2., 3.],\n",
      "        [4., 5., 6.]])\n"
     ]
    }
   ],
   "execution_count": 8
  },
  {
   "cell_type": "code",
   "id": "d602a2c4-2d71-4259-b622-cb00a5c79a27",
   "metadata": {
    "ExecuteTime": {
     "end_time": "2025-02-12T02:28:33.318252Z",
     "start_time": "2025-02-12T02:28:33.315571Z"
    }
   },
   "source": [
    "print(m.dtype)"
   ],
   "outputs": [
    {
     "name": "stdout",
     "output_type": "stream",
     "text": [
      "torch.float32\n"
     ]
    }
   ],
   "execution_count": 9
  },
  {
   "cell_type": "code",
   "id": "1b7e5eec-3d9f-4953-bdb1-8876b8dd26e9",
   "metadata": {
    "ExecuteTime": {
     "end_time": "2025-02-12T02:28:33.347187Z",
     "start_time": "2025-02-12T02:28:33.341959Z"
    }
   },
   "source": [
    "other_m = torch.tensor([[1, 2, 3],\n",
    "                        [4, 5, 6]])\n",
    "print(other_m)"
   ],
   "outputs": [
    {
     "name": "stdout",
     "output_type": "stream",
     "text": [
      "tensor([[1, 2, 3],\n",
      "        [4, 5, 6]])\n"
     ]
    }
   ],
   "execution_count": 10
  },
  {
   "cell_type": "code",
   "id": "eb953be2-af42-4ae5-9970-be410c2d1d02",
   "metadata": {
    "ExecuteTime": {
     "end_time": "2025-02-12T02:28:33.377836Z",
     "start_time": "2025-02-12T02:28:33.375118Z"
    }
   },
   "source": [
    "print(other_m.dtype)"
   ],
   "outputs": [
    {
     "name": "stdout",
     "output_type": "stream",
     "text": [
      "torch.int64\n"
     ]
    }
   ],
   "execution_count": 11
  },
  {
   "cell_type": "markdown",
   "id": "43ca1aba-b1c5-47ed-a0f1-e47db73505bc",
   "metadata": {},
   "source": [
    "# 5: Creating a Tensor From NumPy Arrays"
   ]
  },
  {
   "cell_type": "code",
   "id": "709e206b-f7e4-4eb0-8821-4ac0cf4226a4",
   "metadata": {
    "ExecuteTime": {
     "end_time": "2025-02-12T02:28:33.413337Z",
     "start_time": "2025-02-12T02:28:33.407453Z"
    }
   },
   "source": [
    "import numpy as np\n",
    "\n",
    "np_ary = np.array([1., 2., 3.])\n",
    "m2 = torch.from_numpy(np_ary)\n",
    "\n",
    "print(m2)"
   ],
   "outputs": [
    {
     "name": "stdout",
     "output_type": "stream",
     "text": [
      "tensor([1., 2., 3.], dtype=torch.float64)\n"
     ]
    }
   ],
   "execution_count": 12
  },
  {
   "cell_type": "code",
   "id": "ecfd92e6-71b3-46be-ac45-5f474e07e80a",
   "metadata": {
    "ExecuteTime": {
     "end_time": "2025-02-12T02:28:33.440998Z",
     "start_time": "2025-02-12T02:28:33.437189Z"
    }
   },
   "source": [
    "m3 = torch.tensor(np_ary)\n",
    "\n",
    "print(m3)"
   ],
   "outputs": [
    {
     "name": "stdout",
     "output_type": "stream",
     "text": [
      "tensor([1., 2., 3.], dtype=torch.float64)\n"
     ]
    }
   ],
   "execution_count": 13
  },
  {
   "cell_type": "markdown",
   "id": "fd858081-6ec6-4cde-b324-892ece00784e",
   "metadata": {},
   "source": [
    "# 6: Changing Data Types"
   ]
  },
  {
   "cell_type": "code",
   "id": "a0c4544d-9dd3-4211-a5bc-6af1a6111d20",
   "metadata": {
    "ExecuteTime": {
     "end_time": "2025-02-12T02:28:33.469396Z",
     "start_time": "2025-02-12T02:28:33.465809Z"
    }
   },
   "source": [
    "print(m2.dtype)"
   ],
   "outputs": [
    {
     "name": "stdout",
     "output_type": "stream",
     "text": [
      "torch.float64\n"
     ]
    }
   ],
   "execution_count": 14
  },
  {
   "cell_type": "code",
   "id": "d551178a-bc4f-4ca1-96e6-dafae5276ee8",
   "metadata": {
    "ExecuteTime": {
     "end_time": "2025-02-12T02:28:33.489568Z",
     "start_time": "2025-02-12T02:28:33.486970Z"
    }
   },
   "source": [
    "m2 = m2.to(torch.float32)\n",
    "print(m2.dtype)"
   ],
   "outputs": [
    {
     "name": "stdout",
     "output_type": "stream",
     "text": [
      "torch.float32\n"
     ]
    }
   ],
   "execution_count": 15
  },
  {
   "cell_type": "markdown",
   "id": "e25fbe55-acc5-45af-892c-a198a81dafc2",
   "metadata": {},
   "source": [
    "# 7: Checking the Device Type"
   ]
  },
  {
   "cell_type": "code",
   "id": "a58549ab-1e79-4384-993c-b965d8d71520",
   "metadata": {
    "ExecuteTime": {
     "end_time": "2025-02-12T02:28:33.532221Z",
     "start_time": "2025-02-12T02:28:33.527259Z"
    }
   },
   "source": [
    "m2.device"
   ],
   "outputs": [
    {
     "data": {
      "text/plain": [
       "device(type='cpu')"
      ]
     },
     "execution_count": 16,
     "metadata": {},
     "output_type": "execute_result"
    }
   ],
   "execution_count": 16
  },
  {
   "cell_type": "markdown",
   "id": "599db000-601e-4b88-b9a1-c1380256bb47",
   "metadata": {},
   "source": [
    "# 8: Changing the Tensor Shape"
   ]
  },
  {
   "cell_type": "code",
   "id": "4e4e26d2-81ef-4877-83e9-e5ac57018d08",
   "metadata": {
    "ExecuteTime": {
     "end_time": "2025-02-12T02:28:33.574156Z",
     "start_time": "2025-02-12T02:28:33.570675Z"
    }
   },
   "source": [
    "print(m)"
   ],
   "outputs": [
    {
     "name": "stdout",
     "output_type": "stream",
     "text": [
      "tensor([[1., 2., 3.],\n",
      "        [4., 5., 6.]])\n"
     ]
    }
   ],
   "execution_count": 17
  },
  {
   "cell_type": "code",
   "id": "c5210eed-b9c7-4190-9508-1c4ee3959ee2",
   "metadata": {
    "ExecuteTime": {
     "end_time": "2025-02-12T02:28:33.696955Z",
     "start_time": "2025-02-12T02:28:33.688890Z"
    }
   },
   "source": [
    "print(m.view(3, 2))"
   ],
   "outputs": [
    {
     "name": "stdout",
     "output_type": "stream",
     "text": [
      "tensor([[1., 2.],\n",
      "        [3., 4.],\n",
      "        [5., 6.]])\n"
     ]
    }
   ],
   "execution_count": 18
  },
  {
   "cell_type": "code",
   "id": "6cb49fe2-b4af-40e9-9812-6901fd5b6c81",
   "metadata": {
    "ExecuteTime": {
     "end_time": "2025-02-12T02:28:33.755833Z",
     "start_time": "2025-02-12T02:28:33.749837Z"
    }
   },
   "source": [
    "print(m.view(-1, 2))"
   ],
   "outputs": [
    {
     "name": "stdout",
     "output_type": "stream",
     "text": [
      "tensor([[1., 2.],\n",
      "        [3., 4.],\n",
      "        [5., 6.]])\n"
     ]
    }
   ],
   "execution_count": 19
  },
  {
   "cell_type": "code",
   "id": "2972f1ab-d6b2-4920-ae7f-9f617bdb25e5",
   "metadata": {
    "ExecuteTime": {
     "end_time": "2025-02-12T02:28:33.783534Z",
     "start_time": "2025-02-12T02:28:33.773990Z"
    }
   },
   "source": [
    "print(m.view(3, -1))"
   ],
   "outputs": [
    {
     "name": "stdout",
     "output_type": "stream",
     "text": [
      "tensor([[1., 2.],\n",
      "        [3., 4.],\n",
      "        [5., 6.]])\n"
     ]
    }
   ],
   "execution_count": 20
  },
  {
   "cell_type": "markdown",
   "id": "0a2b98a2-361d-4d8e-aca6-5553df5fa37a",
   "metadata": {},
   "source": [
    "# 9: Transposing a Tensor"
   ]
  },
  {
   "cell_type": "code",
   "id": "caa7c58a-6037-40bb-bc97-347c6ab66109",
   "metadata": {
    "ExecuteTime": {
     "end_time": "2025-02-12T02:28:33.847443Z",
     "start_time": "2025-02-12T02:28:33.840393Z"
    }
   },
   "source": [
    "print(m)"
   ],
   "outputs": [
    {
     "name": "stdout",
     "output_type": "stream",
     "text": [
      "tensor([[1., 2., 3.],\n",
      "        [4., 5., 6.]])\n"
     ]
    }
   ],
   "execution_count": 21
  },
  {
   "cell_type": "code",
   "id": "5d77e237-a6bf-4b88-9cad-b6db461b9d44",
   "metadata": {
    "ExecuteTime": {
     "end_time": "2025-02-12T02:28:33.911246Z",
     "start_time": "2025-02-12T02:28:33.904400Z"
    }
   },
   "source": [
    "print(m.T)"
   ],
   "outputs": [
    {
     "name": "stdout",
     "output_type": "stream",
     "text": [
      "tensor([[1., 4.],\n",
      "        [2., 5.],\n",
      "        [3., 6.]])\n"
     ]
    }
   ],
   "execution_count": 22
  },
  {
   "cell_type": "markdown",
   "id": "00f6b645-8171-4a4c-ae07-bc54edce4494",
   "metadata": {},
   "source": [
    "# 10: Multiplying Matrices"
   ]
  },
  {
   "cell_type": "code",
   "id": "cadb1e16-4c18-4f09-8a5f-89eb2d3532d0",
   "metadata": {
    "ExecuteTime": {
     "end_time": "2025-02-12T02:28:33.975329Z",
     "start_time": "2025-02-12T02:28:33.966206Z"
    }
   },
   "source": [
    "print(m)"
   ],
   "outputs": [
    {
     "name": "stdout",
     "output_type": "stream",
     "text": [
      "tensor([[1., 2., 3.],\n",
      "        [4., 5., 6.]])\n"
     ]
    }
   ],
   "execution_count": 23
  },
  {
   "cell_type": "code",
   "id": "ef88caed-ee72-4cd3-8225-f27afc6fe94f",
   "metadata": {
    "ExecuteTime": {
     "end_time": "2025-02-12T02:28:34.021643Z",
     "start_time": "2025-02-12T02:28:34.013549Z"
    }
   },
   "source": [
    "print(m.T)"
   ],
   "outputs": [
    {
     "name": "stdout",
     "output_type": "stream",
     "text": [
      "tensor([[1., 4.],\n",
      "        [2., 5.],\n",
      "        [3., 6.]])\n"
     ]
    }
   ],
   "execution_count": 24
  },
  {
   "cell_type": "code",
   "id": "de41957e-bc17-4a0c-8993-6ec10cb2a68c",
   "metadata": {
    "ExecuteTime": {
     "end_time": "2025-02-12T02:28:34.079812Z",
     "start_time": "2025-02-12T02:28:34.070737Z"
    }
   },
   "source": [
    "m.matmul(m.T)"
   ],
   "outputs": [
    {
     "data": {
      "text/plain": [
       "tensor([[14., 32.],\n",
       "        [32., 77.]])"
      ]
     },
     "execution_count": 25,
     "metadata": {},
     "output_type": "execute_result"
    }
   ],
   "execution_count": 25
  },
  {
   "cell_type": "code",
   "id": "dfdca76e-d10d-47da-8b53-ef86c0fca40d",
   "metadata": {
    "ExecuteTime": {
     "end_time": "2025-02-12T02:28:34.571582Z",
     "start_time": "2025-02-12T02:28:34.567112Z"
    }
   },
   "source": [
    "a = torch.tensor([1., 2., 3.])\n",
    "a.dot(a)"
   ],
   "outputs": [
    {
     "data": {
      "text/plain": [
       "tensor(14.)"
      ]
     },
     "execution_count": 26,
     "metadata": {},
     "output_type": "execute_result"
    }
   ],
   "execution_count": 26
  },
  {
   "cell_type": "code",
   "id": "731ae797-6d75-4abf-a08e-77357a455352",
   "metadata": {
    "ExecuteTime": {
     "end_time": "2025-02-12T02:28:34.705925Z",
     "start_time": "2025-02-12T02:28:34.700716Z"
    }
   },
   "source": [
    "a = torch.tensor([1., 2., 3.])\n",
    "a.matmul(a)"
   ],
   "outputs": [
    {
     "data": {
      "text/plain": [
       "tensor(14.)"
      ]
     },
     "execution_count": 27,
     "metadata": {},
     "output_type": "execute_result"
    }
   ],
   "execution_count": 27
  }
 ],
 "metadata": {
  "kernelspec": {
   "display_name": "Python 3 (ipykernel)",
   "language": "python",
   "name": "python3"
  },
  "language_info": {
   "codemirror_mode": {
    "name": "ipython",
    "version": 3
   },
   "file_extension": ".py",
   "mimetype": "text/x-python",
   "name": "python",
   "nbconvert_exporter": "python",
   "pygments_lexer": "ipython3",
   "version": "3.9.7"
  }
 },
 "nbformat": 4,
 "nbformat_minor": 5
}
